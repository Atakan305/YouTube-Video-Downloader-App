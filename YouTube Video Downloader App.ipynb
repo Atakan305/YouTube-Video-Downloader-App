{
 "cells": [
  {
   "cell_type": "code",
   "execution_count": 1,
   "metadata": {},
   "outputs": [],
   "source": [
    "import pafy "
   ]
  },
  {
   "cell_type": "code",
   "execution_count": null,
   "metadata": {},
   "outputs": [],
   "source": [
    "def getMeData(video):\n",
    "    print(\"Video Details are ---\")\n",
    "    print(\"Video Title : \", video.title)\n",
    "    print(f\"Total Views : {video.viewcount}| Video Length : {video.length} Seconds\")\n",
    "    print(\"Channel Name : \", video.author)\n",
    "\n",
    "def download_as_video(video):\n",
    "    getMeData(video) #Getting the details of the video to download.\n",
    "    best = video.getbest() #Get best resolution regardless of format.\n",
    "    print(f\"Video Resolution : {best.resolution} \\n Video Extension : {best.extension}\")\n",
    "    best.download() #Download the video... \n",
    "    print(\"Video downloaded successfully.\")\n",
    "    \n",
    "def download_as_audio(video):\n",
    "    getMeData(video) #Getting audio details to downloaded video. \n",
    "    best_audio = video.getbestaudio() #Get best audio format.\n",
    "    best_audio.download() #Download the video...\n",
    "    print(\"Video downloaded in audio format successfully.\")\n",
    "    \n",
    "if __name__ == \"__main__\":\n",
    "    url = input(\"Please Enter the Video URL: \")\n",
    "    #Now, let's create the instance\n",
    "    video = pafy.new(url)\n",
    "    format_choice = input(\"Press 'V' for Video download and 'A' for audio: \")\n",
    "    if choice.upper() == \"V\":\n",
    "        download_as_video(video)\n",
    "    elif choice.upper() ==\"A\":\n",
    "        download_as_audio(video)\n",
    "    else:\n",
    "        print(\"Wrong key value, please try again!\")"
   ]
  },
  {
   "cell_type": "code",
   "execution_count": null,
   "metadata": {},
   "outputs": [],
   "source": []
  }
 ],
 "metadata": {
  "kernelspec": {
   "display_name": "Python 3",
   "language": "python",
   "name": "python3"
  },
  "language_info": {
   "codemirror_mode": {
    "name": "ipython",
    "version": 3
   },
   "file_extension": ".py",
   "mimetype": "text/x-python",
   "name": "python",
   "nbconvert_exporter": "python",
   "pygments_lexer": "ipython3",
   "version": "3.7.6"
  }
 },
 "nbformat": 4,
 "nbformat_minor": 4
}
